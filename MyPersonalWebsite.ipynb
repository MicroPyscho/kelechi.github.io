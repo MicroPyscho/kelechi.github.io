{
  "cells": [
    {
      "cell_type": "markdown",
      "metadata": {
        "id": "view-in-github",
        "colab_type": "text"
      },
      "source": [
        "<a href=\"https://colab.research.google.com/github/MicroPyscho/kelechi.github.io/blob/main/MyPersonalWebsite.ipynb\" target=\"_parent\"><img src=\"https://colab.research.google.com/assets/colab-badge.svg\" alt=\"Open In Colab\"/></a>"
      ]
    },
    {
      "cell_type": "code",
      "execution_count": null,
      "metadata": {
        "colab": {
          "base_uri": "https://localhost:8080/"
        },
        "id": "mSVFZPpn8pYQ",
        "outputId": "68d0ad75-b64b-4ee3-90ce-07d2e4c3138e"
      },
      "outputs": [
        {
          "name": "stdout",
          "output_type": "stream",
          "text": [
            "Requirement already satisfied: flask in /usr/local/lib/python3.10/dist-packages (2.2.5)\n",
            "Requirement already satisfied: Werkzeug>=2.2.2 in /usr/local/lib/python3.10/dist-packages (from flask) (3.0.3)\n",
            "Requirement already satisfied: Jinja2>=3.0 in /usr/local/lib/python3.10/dist-packages (from flask) (3.1.4)\n",
            "Requirement already satisfied: itsdangerous>=2.0 in /usr/local/lib/python3.10/dist-packages (from flask) (2.2.0)\n",
            "Requirement already satisfied: click>=8.0 in /usr/local/lib/python3.10/dist-packages (from flask) (8.1.7)\n",
            "Requirement already satisfied: MarkupSafe>=2.0 in /usr/local/lib/python3.10/dist-packages (from Jinja2>=3.0->flask) (2.1.5)\n"
          ]
        }
      ],
      "source": [
        "!pip install flask\n"
      ]
    },
    {
      "cell_type": "code",
      "execution_count": null,
      "metadata": {
        "colab": {
          "background_save": true,
          "base_uri": "https://localhost:8080/"
        },
        "id": "P5rdY_GR8xfs",
        "outputId": "a5943adc-4a13-4138-9c81-0143813203dd"
      },
      "outputs": [
        {
          "name": "stdout",
          "output_type": "stream",
          "text": [
            " * Serving Flask app '__main__'\n",
            " * Debug mode: off\n"
          ]
        },
        {
          "name": "stderr",
          "output_type": "stream",
          "text": [
            "INFO:werkzeug:\u001b[31m\u001b[1mWARNING: This is a development server. Do not use it in a production deployment. Use a production WSGI server instead.\u001b[0m\n",
            " * Running on all addresses (0.0.0.0)\n",
            " * Running on http://127.0.0.1:5000\n",
            " * Running on http://172.28.0.12:5000\n",
            "INFO:werkzeug:\u001b[33mPress CTRL+C to quit\u001b[0m\n"
          ]
        }
      ],
      "source": [
        "from flask import Flask, render_template_string\n",
        "\n",
        "app = Flask(__name__)\n",
        "\n",
        "# Define the HTML template with chromatic colors and bright yellow highlights\n",
        "html_template = \"\"\"\n",
        "<!doctype html>\n",
        "<html lang=\"en\">\n",
        "<head>\n",
        "  <meta charset=\"UTF-8\">\n",
        "  <meta name=\"viewport\" content=\"width=device-width, initial-scale=1.0\">\n",
        "  <title>KC</title>\n",
        "  <style>\n",
        "    body {\n",
        "      font-family: 'Sans Serif', Arial, sans-serif;\n",
        "      margin: 0;\n",
        "      padding: 0;\n",
        "      background: linear-gradient(to right, red, orange, yellow, green, blue, indigo, violet);\n",
        "      color: white;\n",
        "    }\n",
        "    header {\n",
        "      background-color: #ffeb3b; /* Bright yellow */\n",
        "      padding: 20px;\n",
        "      text-align: center;\n",
        "    }\n",
        "    h1 {\n",
        "      font-size: 36px;\n",
        "      font-family: 'Gothic', 'Sans Serif', Arial, sans-serif;\n",
        "    }\n",
        "    nav {\n",
        "      display: flex;\n",
        "      justify-content: center;\n",
        "      background-color: rgba(0, 0, 0, 0.7);\n",
        "      padding: 10px;\n",
        "    }\n",
        "    nav a {\n",
        "      color: white;\n",
        "      margin: 0 15px;\n",
        "      text-decoration: none;\n",
        "      font-size: 18px;\n",
        "    }\n",
        "    nav a:hover {\n",
        "      color: #ffeb3b; /* Bright yellow */\n",
        "    }\n",
        "    .content {\n",
        "      padding: 20px;\n",
        "      text-align: center;\n",
        "    }\n",
        "  </style>\n",
        "</head>\n",
        "<body>\n",
        "  <header>\n",
        "    <h1>KC</h1>\n",
        "  </header>\n",
        "  <nav>\n",
        "    <a href=\"#about\">About</a>\n",
        "    <a href=\"#visualizations\">Visualizations</a>\n",
        "    <a href=\"#analytics-projects\">Analytics Projects</a>\n",
        "    <a href=\"#work-experience\">Work Experience</a>\n",
        "    <a href=\"#blog\">Blog</a>\n",
        "    <a href=\"#contact\">Contact</a>\n",
        "  </nav>\n",
        "  <div class=\"content\">\n",
        "    <section id=\"about\">\n",
        "      <h2>About</h2>\n",
        "      <p>Welcome to my website. Here you can find information about my work and projects.</p>\n",
        "    </section>\n",
        "    <section id=\"visualizations\">\n",
        "      <h2>Visualizations</h2>\n",
        "      <p>Explore my data visualizations.</p>\n",
        "    </section>\n",
        "    <section id=\"analytics-projects\">\n",
        "      <h2>Analytics Projects</h2>\n",
        "      <p>Discover my analytics projects.</p>\n",
        "    </section>\n",
        "    <section id=\"work-experience\">\n",
        "      <h2>Work Experience</h2>\n",
        "      <p>Learn about my professional experience.</p>\n",
        "    </section>\n",
        "    <section id=\"blog\">\n",
        "      <h2>Blog</h2>\n",
        "      <p>Read my latest blog posts.</p>\n",
        "    </section>\n",
        "    <section id=\"contact\">\n",
        "      <h2>Contact</h2>\n",
        "      <p>Get in touch with me.</p>\n",
        "    </section>\n",
        "  </div>\n",
        "</body>\n",
        "</html>\n",
        "\"\"\"\n",
        "\n",
        "@app.route('/')\n",
        "def home():\n",
        "    return render_template_string(html_template)\n",
        "\n",
        "if __name__ == '__main__':\n",
        "    app.run(host='0.0.0.0', port=5000)\n"
      ]
    },
    {
      "cell_type": "code",
      "execution_count": null,
      "metadata": {
        "id": "WybjSkcv86yF"
      },
      "outputs": [],
      "source": [
        "from google.colab.output import eval_js\n",
        "print(eval_js(\"google.colab.kernel.proxyPort(5000)\"))\n"
      ]
    }
  ],
  "metadata": {
    "colab": {
      "provenance": [],
      "authorship_tag": "ABX9TyNr6u27YE7vUObugioimG8z",
      "include_colab_link": true
    },
    "kernelspec": {
      "display_name": "Python 3",
      "name": "python3"
    },
    "language_info": {
      "name": "python"
    }
  },
  "nbformat": 4,
  "nbformat_minor": 0
}